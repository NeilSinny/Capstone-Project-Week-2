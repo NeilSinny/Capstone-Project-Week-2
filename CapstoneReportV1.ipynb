{
 "cells": [
  {
   "cell_type": "markdown",
   "metadata": {},
   "source": [
    "# Final Data Science Capstone Report"
   ]
  },
  {
   "cell_type": "markdown",
   "metadata": {},
   "source": [
    "## Introduction"
   ]
  },
  {
   "cell_type": "markdown",
   "metadata": {},
   "source": [
    "Our Client Marigold Marquis is exploring to open a boutique hotel in NYC. They are targeting a niche market of theater tourism which include theater goers and performers alike, who are looking to stay in and around the area with highest concentration of the theaters. They have hired our Data Science company to do some research and come up with the location based on their requirements. Their main requirement for the location is the one with highest concentration of theaters and least concentration of hotels around. They also would like us to provide them with the study depicting trend on overall NYC market for hotel industry including room inventory, rooms sold, visitors – domestic, international, leisure and business."
   ]
  },
  {
   "cell_type": "markdown",
   "metadata": {},
   "source": [
    "## Data"
   ]
  },
  {
   "cell_type": "markdown",
   "metadata": {},
   "source": [
    "For this project we have explored data derived from NYU.edu repository, Foursquare API, NYC.gov and NYCgo.com. All this data will be used to explore the neighborhoods in NYC and gauge the market for hotel industry based on supply, demand and number of tourists visiting NYC each year."
   ]
  },
  {
   "cell_type": "markdown",
   "metadata": {},
   "source": [
    "## Methodology"
   ]
  },
  {
   "cell_type": "markdown",
   "metadata": {},
   "source": [
    "The first step was to load the NYC data provided by nyu.edu. This data set consisted of 5 boroughs and 306 neighborhoods with their respective latitude and longitude coordinates. Once the data is loaded, we strip out all the irrelevant data and extract only what's needed which is borough name, neighborhood name, latitude and longitude.\n",
    "Once the above data is extracted we used folium library to superimpose the neighborhoods on top by NYC map.\n",
    "Since our client is only interested in the borough of Manhattan, we further weed out rest of the boroughs from the dataset and concentrate on just one.\n",
    "Next step was to explore the top venues in the given neighborhood using Foursquare APIs. Once the results were in, we group and sum up the top venues. Once grouped we filter the data and retrieve only the neighborhoods where there are more theaters than hotels as requested by our clients. We then plot the final findings into pretty graph for our clients to visualize the data. We also upload and present various data files related to hotels, travel and visitors for our clients to know the trend and overall trajectory of tourism industry in NYC."
   ]
  },
  {
   "cell_type": "markdown",
   "metadata": {},
   "source": [
    "## Results"
   ]
  },
  {
   "cell_type": "markdown",
   "metadata": {},
   "source": [
    "After analyzing all available data points we narrowed down to 4 neighborhoods with highest concentration of Theaters and number of hotels in them. We have also come to an conclusion that overall demand of hotel rooms is rising which is inline with upward trend in visitors be it international, domestic, business or leisure."
   ]
  },
  {
   "cell_type": "markdown",
   "metadata": {},
   "source": [
    "## Discussion"
   ]
  },
  {
   "cell_type": "markdown",
   "metadata": {},
   "source": [
    "We have observed that there is still lot of demand for Hotel rooms in NYC based on healthy tourism industry. We highly recommended our stakeholders of their plans of developing hotel in and around neighborhoods especially around theaters (one of the attractive venues for visitors)"
   ]
  },
  {
   "cell_type": "markdown",
   "metadata": {},
   "source": [
    "## Conclusion"
   ]
  },
  {
   "cell_type": "markdown",
   "metadata": {},
   "source": [
    "Upon analyzing all the data points available we have concluded that the tourism industry is thriving and growing, and as long long as their are tourists coming to NYC there will always be a demand for Hotel rooms and theaters alike."
   ]
  },
  {
   "cell_type": "markdown",
   "metadata": {},
   "source": [
    "This is the brief report. To view the full presentation please click [here](https://github.com/NeilSinny/Capstone-Project-Week-2/blob/master/Capstone-Presentation.ppt)"
   ]
  },
  {
   "cell_type": "markdown",
   "metadata": {},
   "source": [
    "Thank you! "
   ]
  }
 ],
 "metadata": {
  "kernelspec": {
   "display_name": "Python 3",
   "language": "python",
   "name": "python3"
  },
  "language_info": {
   "codemirror_mode": {
    "name": "ipython",
    "version": 3
   },
   "file_extension": ".py",
   "mimetype": "text/x-python",
   "name": "python",
   "nbconvert_exporter": "python",
   "pygments_lexer": "ipython3",
   "version": "3.6.8"
  }
 },
 "nbformat": 4,
 "nbformat_minor": 2
}
